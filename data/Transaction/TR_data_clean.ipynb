{
 "cells": [
  {
   "cell_type": "code",
   "execution_count": 2,
   "id": "ccd7fa29",
   "metadata": {},
   "outputs": [],
   "source": [
    "import json\n",
    "import pymongo\n",
    "import pandas as pd"
   ]
  },
  {
   "cell_type": "code",
   "execution_count": 3,
   "id": "21616a20",
   "metadata": {},
   "outputs": [],
   "source": [
    "# log in db\n",
    "myclient = pymongo.MongoClient(\"mongodb://localhost:27017/\")\n",
    "mydb = myclient[\"dataset\"]\n",
    "mycol = mydb[\"TR_CH\"]\n",
    "\n",
    "# read TR file\n",
    "file_path = \"transaction_CH.json\"\n",
    "with open(file_path,\"rb\")as f:\n",
    "    data = json.load(f)"
   ]
  },
  {
   "cell_type": "code",
   "execution_count": 4,
   "id": "b1305e7a",
   "metadata": {},
   "outputs": [],
   "source": [
    "data = pd.DataFrame(data)"
   ]
  },
  {
   "cell_type": "code",
   "execution_count": 5,
   "id": "74612c7a",
   "metadata": {},
   "outputs": [
    {
     "data": {
      "text/plain": [
       "Index(['address_code', 'branch_id', 'branch_name', 'category', 'enabled_at',\n",
       "       'gender', 'id', 'invoice_datetime', 'invoice_number', 'invoice_price',\n",
       "       'is_member_prepaid', 'is_taiwan', 'lat', 'level_expiry_date', 'lng',\n",
       "       'points_gained', 'status', 'store_id', 'transaction_amount',\n",
       "       'transaction_id', 'user_id', 'user_level', 'invoice_year',\n",
       "       'invoice_month', 'invoice_day', 'invoice_weekday'],\n",
       "      dtype='object')"
      ]
     },
     "execution_count": 5,
     "metadata": {},
     "output_type": "execute_result"
    }
   ],
   "source": [
    "data.columns"
   ]
  },
  {
   "cell_type": "code",
   "execution_count": 6,
   "id": "5bccdb36",
   "metadata": {
    "scrolled": true
   },
   "outputs": [
    {
     "data": {
      "text/html": [
       "<div>\n",
       "<style scoped>\n",
       "    .dataframe tbody tr th:only-of-type {\n",
       "        vertical-align: middle;\n",
       "    }\n",
       "\n",
       "    .dataframe tbody tr th {\n",
       "        vertical-align: top;\n",
       "    }\n",
       "\n",
       "    .dataframe thead th {\n",
       "        text-align: right;\n",
       "    }\n",
       "</style>\n",
       "<table border=\"1\" class=\"dataframe\">\n",
       "  <thead>\n",
       "    <tr style=\"text-align: right;\">\n",
       "      <th></th>\n",
       "      <th>address_code</th>\n",
       "      <th>branch_id</th>\n",
       "      <th>branch_name</th>\n",
       "      <th>category</th>\n",
       "      <th>enabled_at</th>\n",
       "      <th>gender</th>\n",
       "      <th>id</th>\n",
       "      <th>invoice_datetime</th>\n",
       "      <th>invoice_number</th>\n",
       "      <th>invoice_price</th>\n",
       "      <th>...</th>\n",
       "      <th>status</th>\n",
       "      <th>store_id</th>\n",
       "      <th>transaction_amount</th>\n",
       "      <th>transaction_id</th>\n",
       "      <th>user_id</th>\n",
       "      <th>user_level</th>\n",
       "      <th>invoice_year</th>\n",
       "      <th>invoice_month</th>\n",
       "      <th>invoice_day</th>\n",
       "      <th>invoice_weekday</th>\n",
       "    </tr>\n",
       "  </thead>\n",
       "  <tbody>\n",
       "    <tr>\n",
       "      <th>0</th>\n",
       "      <td>內湖區</td>\n",
       "      <td>005</td>\n",
       "      <td>微風南京</td>\n",
       "      <td>主題餐廳</td>\n",
       "      <td>2016-10-25 21:12:32</td>\n",
       "      <td>female</td>\n",
       "      <td>1964289</td>\n",
       "      <td>2017-01-11 19:20:19</td>\n",
       "      <td>SE51702683</td>\n",
       "      <td>380.0</td>\n",
       "      <td>...</td>\n",
       "      <td>success</td>\n",
       "      <td>02080</td>\n",
       "      <td>380.0</td>\n",
       "      <td>4777778</td>\n",
       "      <td>275697</td>\n",
       "      <td>C</td>\n",
       "      <td>2017</td>\n",
       "      <td>1</td>\n",
       "      <td>11</td>\n",
       "      <td>Wed</td>\n",
       "    </tr>\n",
       "    <tr>\n",
       "      <th>1</th>\n",
       "      <td>內湖區</td>\n",
       "      <td>005</td>\n",
       "      <td>微風南京</td>\n",
       "      <td>化妝品/保養品/香氛</td>\n",
       "      <td>2016-10-25 21:12:32</td>\n",
       "      <td>female</td>\n",
       "      <td>2002788</td>\n",
       "      <td>2017-01-17 19:13:35</td>\n",
       "      <td>SE51860662</td>\n",
       "      <td>650.0</td>\n",
       "      <td>...</td>\n",
       "      <td>success</td>\n",
       "      <td>10160</td>\n",
       "      <td>650.0</td>\n",
       "      <td>4857769</td>\n",
       "      <td>275697</td>\n",
       "      <td>C</td>\n",
       "      <td>2017</td>\n",
       "      <td>1</td>\n",
       "      <td>17</td>\n",
       "      <td>Tue</td>\n",
       "    </tr>\n",
       "    <tr>\n",
       "      <th>2</th>\n",
       "      <td>內湖區</td>\n",
       "      <td>005</td>\n",
       "      <td>微風南京</td>\n",
       "      <td>化妝品/保養品/香氛</td>\n",
       "      <td>2016-10-25 21:12:32</td>\n",
       "      <td>female</td>\n",
       "      <td>2002794</td>\n",
       "      <td>2017-01-17 19:14:25</td>\n",
       "      <td>SE51860663</td>\n",
       "      <td>650.0</td>\n",
       "      <td>...</td>\n",
       "      <td>success</td>\n",
       "      <td>10160</td>\n",
       "      <td>650.0</td>\n",
       "      <td>4857781</td>\n",
       "      <td>275697</td>\n",
       "      <td>C</td>\n",
       "      <td>2017</td>\n",
       "      <td>1</td>\n",
       "      <td>17</td>\n",
       "      <td>Tue</td>\n",
       "    </tr>\n",
       "    <tr>\n",
       "      <th>3</th>\n",
       "      <td>內湖區</td>\n",
       "      <td>001</td>\n",
       "      <td>微風廣場</td>\n",
       "      <td>超市</td>\n",
       "      <td>2016-10-25 21:12:32</td>\n",
       "      <td>female</td>\n",
       "      <td>2052065</td>\n",
       "      <td>2017-01-25 17:31:15</td>\n",
       "      <td>SF58883581</td>\n",
       "      <td>90.0</td>\n",
       "      <td>...</td>\n",
       "      <td>success</td>\n",
       "      <td>19050</td>\n",
       "      <td>90.0</td>\n",
       "      <td>4959439</td>\n",
       "      <td>275697</td>\n",
       "      <td>C</td>\n",
       "      <td>2017</td>\n",
       "      <td>1</td>\n",
       "      <td>25</td>\n",
       "      <td>Wed</td>\n",
       "    </tr>\n",
       "    <tr>\n",
       "      <th>4</th>\n",
       "      <td>內湖區</td>\n",
       "      <td>009</td>\n",
       "      <td>微風信義</td>\n",
       "      <td>餐廳</td>\n",
       "      <td>2016-10-25 21:12:32</td>\n",
       "      <td>female</td>\n",
       "      <td>2073013</td>\n",
       "      <td>2017-01-28 19:06:37</td>\n",
       "      <td>SE73879788</td>\n",
       "      <td>528.0</td>\n",
       "      <td>...</td>\n",
       "      <td>success</td>\n",
       "      <td>40010</td>\n",
       "      <td>528.0</td>\n",
       "      <td>5002536</td>\n",
       "      <td>275697</td>\n",
       "      <td>C</td>\n",
       "      <td>2017</td>\n",
       "      <td>1</td>\n",
       "      <td>28</td>\n",
       "      <td>Sat</td>\n",
       "    </tr>\n",
       "  </tbody>\n",
       "</table>\n",
       "<p>5 rows × 26 columns</p>\n",
       "</div>"
      ],
      "text/plain": [
       "  address_code branch_id branch_name    category           enabled_at  gender  \\\n",
       "0          內湖區       005        微風南京        主題餐廳  2016-10-25 21:12:32  female   \n",
       "1          內湖區       005        微風南京  化妝品/保養品/香氛  2016-10-25 21:12:32  female   \n",
       "2          內湖區       005        微風南京  化妝品/保養品/香氛  2016-10-25 21:12:32  female   \n",
       "3          內湖區       001        微風廣場          超市  2016-10-25 21:12:32  female   \n",
       "4          內湖區       009        微風信義          餐廳  2016-10-25 21:12:32  female   \n",
       "\n",
       "        id     invoice_datetime invoice_number  invoice_price  ...   status  \\\n",
       "0  1964289  2017-01-11 19:20:19     SE51702683          380.0  ...  success   \n",
       "1  2002788  2017-01-17 19:13:35     SE51860662          650.0  ...  success   \n",
       "2  2002794  2017-01-17 19:14:25     SE51860663          650.0  ...  success   \n",
       "3  2052065  2017-01-25 17:31:15     SF58883581           90.0  ...  success   \n",
       "4  2073013  2017-01-28 19:06:37     SE73879788          528.0  ...  success   \n",
       "\n",
       "  store_id  transaction_amount transaction_id  user_id  user_level  \\\n",
       "0    02080               380.0        4777778   275697           C   \n",
       "1    10160               650.0        4857769   275697           C   \n",
       "2    10160               650.0        4857781   275697           C   \n",
       "3    19050                90.0        4959439   275697           C   \n",
       "4    40010               528.0        5002536   275697           C   \n",
       "\n",
       "  invoice_year invoice_month  invoice_day invoice_weekday  \n",
       "0         2017             1           11             Wed  \n",
       "1         2017             1           17             Tue  \n",
       "2         2017             1           17             Tue  \n",
       "3         2017             1           25             Wed  \n",
       "4         2017             1           28             Sat  \n",
       "\n",
       "[5 rows x 26 columns]"
      ]
     },
     "execution_count": 6,
     "metadata": {},
     "output_type": "execute_result"
    }
   ],
   "source": [
    "data.head()"
   ]
  },
  {
   "cell_type": "code",
   "execution_count": 7,
   "id": "9e697ba4",
   "metadata": {},
   "outputs": [],
   "source": [
    "data.drop(columns=[\"branch_id\",\"enabled_at\",\"id\",\"invoice_datetime\",\"invoice_number\",\n",
    "                   \"lat\",\"store_id\",\"transaction_id\",\"user_id\",\"level_expiry_date\",\"transaction_amount\",\"lng\"],inplace=True)\n",
    "\n",
    "#data.drop(columns=[\"transaction_amount\",\"lng\"],inplace=True)"
   ]
  },
  {
   "cell_type": "code",
   "execution_count": 13,
   "id": "cfc06389",
   "metadata": {},
   "outputs": [],
   "source": [
    "data.dropna(axis=0,how=\"any\")\n",
    "data = data[data.gender != \"nan\"]\n",
    "data = data[data.address_code != \"nan\"]\n",
    "data = data[data.address_code != \"\"]\n",
    "data = data[data.category != \"\"]"
   ]
  },
  {
   "cell_type": "code",
   "execution_count": 9,
   "id": "bd43e7a2",
   "metadata": {},
   "outputs": [],
   "source": [
    "data[\"is_member_prepaid\"] = data[\"is_member_prepaid\"].replace({\"0\":\"F\",\"1\":\"T\"})"
   ]
  },
  {
   "cell_type": "code",
   "execution_count": 10,
   "id": "a0af5ad2",
   "metadata": {},
   "outputs": [],
   "source": [
    "data = data.astype({\n",
    "    \"invoice_price\":\"float64\",\n",
    "    \"points_gained\":\"float64\",\n",
    "})\n",
    "\n",
    "data = data.astype({\n",
    "    \"invoice_month\":\"string\",\n",
    "    \"invoice_day\":\"string\",\n",
    "})"
   ]
  },
  {
   "cell_type": "code",
   "execution_count": 14,
   "id": "25980ac3",
   "metadata": {},
   "outputs": [
    {
     "data": {
      "text/plain": [
       "<pymongo.results.InsertManyResult at 0x11d9434d5c8>"
      ]
     },
     "execution_count": 14,
     "metadata": {},
     "output_type": "execute_result"
    }
   ],
   "source": [
    "parsed_js = json.loads(data.to_json(orient = 'records',force_ascii=False))    \n",
    "mycol.insert_many(parsed_js)"
   ]
  }
 ],
 "metadata": {
  "kernelspec": {
   "display_name": "Python 3 (ipykernel)",
   "language": "python",
   "name": "python3"
  },
  "language_info": {
   "codemirror_mode": {
    "name": "ipython",
    "version": 3
   },
   "file_extension": ".py",
   "mimetype": "text/x-python",
   "name": "python",
   "nbconvert_exporter": "python",
   "pygments_lexer": "ipython3",
   "version": "3.7.6"
  }
 },
 "nbformat": 4,
 "nbformat_minor": 5
}
